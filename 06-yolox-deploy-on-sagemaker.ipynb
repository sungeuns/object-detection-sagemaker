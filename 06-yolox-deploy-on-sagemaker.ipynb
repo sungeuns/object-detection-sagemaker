{
 "cells": [
  {
   "cell_type": "markdown",
   "id": "0194b4f2-abaa-4571-aed4-c7156c77108a",
   "metadata": {},
   "source": [
    "## YoloX on SageMaker\n",
    "\n",
    "- blog (deploy): https://aws.amazon.com/ko/blogs/machine-learning/hosting-yolov8-pytorch-model-on-amazon-sagemaker-endpoints/\n",
    "- code : https://github.com/aws-samples/host-yolov8-on-sagemaker-endpoint\n",
    "\n",
    "\n",
    "### Homework\n",
    "- YoloX 학습된 모델을 custom dataset에 fine-tuning 합니다.\n",
    "- 학습한 모델을 배포하고 테스트 합니다."
   ]
  },
  {
   "cell_type": "code",
   "execution_count": null,
   "id": "6833425e-6ca9-4405-803e-6540fc378e6a",
   "metadata": {},
   "outputs": [],
   "source": []
  },
  {
   "cell_type": "code",
   "execution_count": null,
   "id": "7891de41-b34d-4ab9-86aa-dfb0dfe95a01",
   "metadata": {},
   "outputs": [],
   "source": []
  },
  {
   "cell_type": "code",
   "execution_count": null,
   "id": "c836b129-d0d0-4107-8a6d-2330fb278c35",
   "metadata": {},
   "outputs": [],
   "source": []
  },
  {
   "cell_type": "code",
   "execution_count": null,
   "id": "723b16b7-2c5e-40fd-9d5b-042fe716f9a9",
   "metadata": {},
   "outputs": [],
   "source": []
  },
  {
   "cell_type": "code",
   "execution_count": null,
   "id": "1b732af7-aae3-4c0f-8356-594fdebadbe6",
   "metadata": {},
   "outputs": [],
   "source": []
  }
 ],
 "metadata": {
  "kernelspec": {
   "display_name": "conda_pytorch_p39",
   "language": "python",
   "name": "conda_pytorch_p39"
  },
  "language_info": {
   "codemirror_mode": {
    "name": "ipython",
    "version": 3
   },
   "file_extension": ".py",
   "mimetype": "text/x-python",
   "name": "python",
   "nbconvert_exporter": "python",
   "pygments_lexer": "ipython3",
   "version": "3.9.15"
  }
 },
 "nbformat": 4,
 "nbformat_minor": 5
}
