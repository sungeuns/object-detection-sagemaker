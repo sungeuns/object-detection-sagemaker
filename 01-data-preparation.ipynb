{
 "cells": [
  {
   "cell_type": "markdown",
   "id": "6431008d-8232-419c-942e-20257724d9d7",
   "metadata": {},
   "source": [
    "## 데이터 준비 과정\n",
    "\n",
    "- SageMaker default bucket에 Object detection용 샘플 데이터를 업로드합니다."
   ]
  },
  {
   "cell_type": "code",
   "execution_count": null,
   "id": "ecafa1ed-fb11-43ac-970d-44a1a59b0a0e",
   "metadata": {
    "tags": []
   },
   "outputs": [],
   "source": [
    "from sagemaker.session import Session\n",
    "\n",
    "sagemaker_session = Session()\n",
    "bucket = sagemaker_session.default_bucket()\n",
    "print(f\"Default bucket:  {bucket}\")"
   ]
  },
  {
   "cell_type": "markdown",
   "id": "8fb944e8-9f5f-422d-b27d-b52542182e6f",
   "metadata": {},
   "source": [
    "- 아래에서 terminal 명령어를 통해서 데이터 다운로드 및 압축을 풉니다."
   ]
  },
  {
   "cell_type": "code",
   "execution_count": null,
   "id": "4dd0f6da-b0a9-4043-b6c2-36bb2db15db6",
   "metadata": {},
   "outputs": [],
   "source": [
    "!mkdir -p data; cd data; wget https://automl-mm-bench.s3.amazonaws.com/object_detection_dataset/tiny_motorbike_coco.zip; unzip tiny_motorbike_coco.zip"
   ]
  },
  {
   "cell_type": "code",
   "execution_count": null,
   "id": "a6b40366-e505-4f4b-8cb0-d14b0d04546c",
   "metadata": {},
   "outputs": [],
   "source": [
    "!mkdir -p data; cd data; wget https://automl-mm-bench.s3.amazonaws.com/object_detection/dataset/pothole.zip; unzip pothole.zip"
   ]
  },
  {
   "cell_type": "markdown",
   "id": "3fa78bbc-2a16-4732-a29a-6edb6a057b1a",
   "metadata": {},
   "source": [
    "- 적절한 경로의 s3에 업로드합니다."
   ]
  },
  {
   "cell_type": "code",
   "execution_count": null,
   "id": "5b4cb908-6358-44be-bca6-f7dbf7274950",
   "metadata": {
    "tags": []
   },
   "outputs": [],
   "source": [
    "!aws s3 cp data/tiny_motorbike/ s3://{bucket}/object_detection_data/tiny_motorbike/ --recursive"
   ]
  },
  {
   "cell_type": "code",
   "execution_count": null,
   "id": "89cacc8b-52a1-43c8-a184-9e88644f897b",
   "metadata": {
    "tags": []
   },
   "outputs": [],
   "source": [
    "!aws s3 cp data/pothole/ s3://{bucket}/object_detection_data/pothole/ --recursive"
   ]
  },
  {
   "cell_type": "code",
   "execution_count": null,
   "id": "f443abf3-673d-4c48-ac6e-e50f580a872b",
   "metadata": {},
   "outputs": [],
   "source": []
  }
 ],
 "metadata": {
  "kernelspec": {
   "display_name": "conda_pytorch_p39",
   "language": "python",
   "name": "conda_pytorch_p39"
  },
  "language_info": {
   "codemirror_mode": {
    "name": "ipython",
    "version": 3
   },
   "file_extension": ".py",
   "mimetype": "text/x-python",
   "name": "python",
   "nbconvert_exporter": "python",
   "pygments_lexer": "ipython3",
   "version": "3.9.15"
  }
 },
 "nbformat": 4,
 "nbformat_minor": 5
}
