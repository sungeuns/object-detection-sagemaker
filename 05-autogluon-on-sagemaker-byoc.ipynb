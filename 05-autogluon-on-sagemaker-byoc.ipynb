{
 "cells": [
  {
   "cell_type": "markdown",
   "id": "3fad5f8d-ec91-4caa-9427-426db0e4964a",
   "metadata": {},
   "source": [
    "## AutoGluon training on SageMaker\n",
    "\n",
    "- Built-in pre-trained model ([리스트](https://sagemaker.readthedocs.io/en/stable/doc_utils/pretrainedmodels.html))에 classification/regression 용도의 autogluon image 만 존재합니다.\n",
    "- Multimodal 용도로는 직접 Container를 만들거나 Autogluon deep learnig container image ([참고](https://github.com/aws/deep-learning-containers/blob/master/available_images.md#autogluon-training-containers)) 활용하면 됩니다.\n",
    "    - 예시 : https://auto.gluon.ai/stable/tutorials/cloud_fit_deploy/cloud-aws-sagemaker-training.html\n",
    "    - 예시코드 : https://github.com/aws/amazon-sagemaker-examples/tree/main/advanced_functionality/autogluon-tabular-containers\n",
    "\n",
    "\n",
    "### BYOC\n",
    "- AutoGluon의 경우 BYOS 모드로 requirements.txt 등의 방법으로 설치 시 시간이 오래 걸리며 매번 설치 시에 소요되는 시간이 있으므로, Container를 사용하는 게 좋습니다.\n",
    "- DLC가 이미 있다면 BYOS로 해도 상관 없지만, DLC에서 지원하지 않는 경우 (예를 들어 object detection이 0.7 stable에서는 동작안되는 문제가 있음.) container를 직접 빌드하는 방법이 있습니다.\n",
    "- 여기서는 기존에 Autogluon 0.7을 DLC 만들 때 사용한 [Dockerfile](https://github.com/aws/deep-learning-containers/blob/master/autogluon/training/docker/0.7/py3/Dockerfile.cpu)을 수정하여 나만의 컨테이너를 만든 후, 기존의 코드들을 수정해서 활용해 보겠습니다.\n",
    "- 참고로 GPU용 DLC는 [Dockerfile.gpu](https://github.com/aws/deep-learning-containers/blob/master/autogluon/training/docker/0.7/py3/cu117/Dockerfile.gpu)를 참고하였습니다.\n",
    "\n"
   ]
  },
  {
   "cell_type": "code",
   "execution_count": null,
   "id": "129755cf-ae4d-4f7a-9ed9-271d69590b06",
   "metadata": {
    "tags": []
   },
   "outputs": [],
   "source": [
    "import sagemaker\n",
    "from sagemaker import utils\n",
    "\n",
    "role = sagemaker.get_execution_role()\n",
    "sagemaker_session = sagemaker.session.Session()\n",
    "region = sagemaker_session._region_name\n",
    "\n",
    "bucket = sagemaker_session.default_bucket()\n",
    "output_path = f\"s3://{bucket}/ag-od-{utils.sagemaker_timestamp()}\""
   ]
  },
  {
   "cell_type": "code",
   "execution_count": null,
   "id": "b74a4d45-0743-47d6-8dfe-b4d9645b1374",
   "metadata": {
    "tags": []
   },
   "outputs": [],
   "source": [
    "container = \"ag-od-training\" \n",
    "tag = \"latest\""
   ]
  },
  {
   "cell_type": "code",
   "execution_count": null,
   "id": "f08ea6cf-ea9e-4c6d-b7e2-a31513bd6f94",
   "metadata": {
    "tags": []
   },
   "outputs": [],
   "source": [
    "! ./build_and_push.sh $container $tag docker/Dockerfile.ag.cpu"
   ]
  },
  {
   "cell_type": "code",
   "execution_count": null,
   "id": "52673629-5186-444d-ae7e-3ec4022212e4",
   "metadata": {
    "tags": []
   },
   "outputs": [],
   "source": [
    "container_gpu = \"ag-od-training-gpu\"\n",
    "tag = \"ag-gpu-0.7-src\""
   ]
  },
  {
   "cell_type": "code",
   "execution_count": null,
   "id": "87fe7035-f77a-46cd-825d-efc564c9dcee",
   "metadata": {
    "tags": []
   },
   "outputs": [],
   "source": [
    "! ./build_and_push.sh $container_gpu $tag docker/Dockerfile.ag.gpu"
   ]
  },
  {
   "cell_type": "markdown",
   "id": "5d0e080b-e653-48f1-899c-e6c4df03bc1b",
   "metadata": {},
   "source": [
    "- 위의 과정을 이후 ECR repo에 docker image가 정상적으로 올라갔는지 확인합니다.\n",
    "- push 가 실패하는 경우 ECR push 에 적절한 권한이 없을 경우이므로 ECR repository의 permission에서 SageMaker role에 대한 권한을 줄 수 있도록 합니다."
   ]
  },
  {
   "cell_type": "code",
   "execution_count": null,
   "id": "ad91ade5-a78a-46da-a055-e2db02d3cd11",
   "metadata": {},
   "outputs": [],
   "source": []
  },
  {
   "cell_type": "code",
   "execution_count": null,
   "id": "81c12742-2808-413f-871a-256017e9ba17",
   "metadata": {
    "tags": []
   },
   "outputs": [],
   "source": [
    "# pip install -U sagemaker"
   ]
  },
  {
   "cell_type": "code",
   "execution_count": null,
   "id": "e34a638a-828d-4f39-a24a-94a00a86bd60",
   "metadata": {
    "tags": []
   },
   "outputs": [],
   "source": [
    "import sys\n",
    "sys.path.append(\"./ag_helper\")\n",
    "\n",
    "from ag_helper.ag_model import (\n",
    "    AutoGluonSagemakerEstimator,\n",
    "    AutoGluonNonRepackInferenceModel,\n",
    "    AutoGluonSagemakerInferenceModel,\n",
    "    AutoGluonRealtimePredictor,\n",
    "    AutoGluonBatchPredictor,\n",
    ")"
   ]
  },
  {
   "cell_type": "code",
   "execution_count": null,
   "id": "e1bdf8b8-71aa-4085-b5de-e883f73bcc30",
   "metadata": {
    "tags": []
   },
   "outputs": [],
   "source": [
    "# ECR push한 container image uri 값으로 변경합니다.\n",
    "# container_uri = \"784880277394.dkr.ecr.ap-northeast-2.amazonaws.com/ag-od-training:latest\"\n",
    "container_uri = \"784880277394.dkr.ecr.ap-northeast-2.amazonaws.com/ag-od-training-gpu:ag-gpu-0.7-src\""
   ]
  },
  {
   "cell_type": "code",
   "execution_count": null,
   "id": "dcdfc23b-cc90-402e-8928-c8243d2697fd",
   "metadata": {},
   "outputs": [],
   "source": [
    "ag = AutoGluonSagemakerEstimator(\n",
    "    custom_image_uri=container_uri,\n",
    "    role=role,\n",
    "    entry_point=\"train.py\",\n",
    "    source_dir=\"src\",\n",
    "    region=region,\n",
    "    instance_count=1,\n",
    "    instance_type=\"ml.p3.2xlarge\",\n",
    "    # instance_type=\"ml.m5.4xlarge\",\n",
    "    # instance_type=\"local\",\n",
    "    framework_version=\"0.7\",\n",
    "    py_version=\"py39\",\n",
    "    base_job_name=\"autogluon-od-train\",\n",
    "    volume_size=120,\n",
    "    disable_profiler=True,\n",
    "    debugger_hook_config=False,\n",
    ")"
   ]
  },
  {
   "cell_type": "code",
   "execution_count": null,
   "id": "0549bb62-7184-4ef7-8bc2-fd808bae6eea",
   "metadata": {
    "tags": []
   },
   "outputs": [],
   "source": [
    "train_input = f\"s3://{bucket}/object_detection_data/pothole/\""
   ]
  },
  {
   "cell_type": "code",
   "execution_count": null,
   "id": "87f1ae2b-100b-4bd9-8954-86a2a76f99ff",
   "metadata": {
    "tags": []
   },
   "outputs": [],
   "source": [
    "print(output_path)\n",
    "print(train_input)"
   ]
  },
  {
   "cell_type": "code",
   "execution_count": null,
   "id": "0cab6148-284f-437e-9b9b-0b3ac33b11c4",
   "metadata": {},
   "outputs": [],
   "source": [
    "job_name = utils.unique_name_from_base(\"autogluon-od-finetune\")\n",
    "ag.fit(\n",
    "    {\n",
    "        \"train\": train_input,\n",
    "    },\n",
    "    job_name=job_name,\n",
    ")"
   ]
  },
  {
   "cell_type": "code",
   "execution_count": null,
   "id": "944c8555-0e9e-461a-ab1a-6aaa2ba3b740",
   "metadata": {},
   "outputs": [],
   "source": []
  }
 ],
 "metadata": {
  "kernelspec": {
   "display_name": "conda_pytorch_p39",
   "language": "python",
   "name": "conda_pytorch_p39"
  },
  "language_info": {
   "codemirror_mode": {
    "name": "ipython",
    "version": 3
   },
   "file_extension": ".py",
   "mimetype": "text/x-python",
   "name": "python",
   "nbconvert_exporter": "python",
   "pygments_lexer": "ipython3",
   "version": "3.9.15"
  }
 },
 "nbformat": 4,
 "nbformat_minor": 5
}
