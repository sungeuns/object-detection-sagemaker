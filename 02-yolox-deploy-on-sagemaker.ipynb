{
 "cells": [
  {
   "cell_type": "markdown",
   "id": "59a74176-938d-4de7-8640-245cf09bfca6",
   "metadata": {},
   "source": [
    "## YoloX on SageMaker\n",
    "\n",
    "- blog (deploy): https://aws.amazon.com/ko/blogs/machine-learning/hosting-yolov8-pytorch-model-on-amazon-sagemaker-endpoints/\n",
    "- code : https://github.com/aws-samples/host-yolov8-on-sagemaker-endpoint\n",
    "\n",
    "## Jumpstart OD finetuning\n",
    "\n",
    "- https://github.com/aws/amazon-sagemaker-examples/blob/main/introduction_to_amazon_algorithms/jumpstart_object_detection/Amazon_JumpStart_Object_Detection.ipynb"
   ]
  },
  {
   "cell_type": "code",
   "execution_count": null,
   "id": "a92b4bbd-fb5a-484c-89f1-ab7fcaad905f",
   "metadata": {},
   "outputs": [],
   "source": []
  },
  {
   "cell_type": "code",
   "execution_count": null,
   "id": "4397b1ae-ed69-467c-9ff3-161bbf12f587",
   "metadata": {},
   "outputs": [],
   "source": []
  },
  {
   "cell_type": "code",
   "execution_count": null,
   "id": "aad78003-b279-4924-bb50-d28c5674a39e",
   "metadata": {},
   "outputs": [],
   "source": []
  }
 ],
 "metadata": {
  "kernelspec": {
   "display_name": "conda_pytorch_p39",
   "language": "python",
   "name": "conda_pytorch_p39"
  },
  "language_info": {
   "codemirror_mode": {
    "name": "ipython",
    "version": 3
   },
   "file_extension": ".py",
   "mimetype": "text/x-python",
   "name": "python",
   "nbconvert_exporter": "python",
   "pygments_lexer": "ipython3",
   "version": "3.9.15"
  }
 },
 "nbformat": 4,
 "nbformat_minor": 5
}
