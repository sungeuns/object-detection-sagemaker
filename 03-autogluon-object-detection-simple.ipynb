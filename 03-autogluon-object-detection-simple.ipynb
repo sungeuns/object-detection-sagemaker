{
 "cells": [
  {
   "cell_type": "markdown",
   "id": "d77f1132-d971-485f-8d7f-00dce7a2c1fc",
   "metadata": {},
   "source": [
    "## AutoGluon local mode 활용 예시\n",
    "\n",
    "- AutoGluon object detection 예시 : [참고](https://auto.gluon.ai/stable/tutorials/multimodal/object_detection/quick_start/quick_start_coco.html)\n",
    "- AutoGluon의 object detection은 내부적으로 [mmdetection](https://github.com/open-mmlab/mmdetection)을 사용합니다.\n",
    "- 앞의 노트북에서 데이터를 다운로드 했다고 가정합니다.\n",
    "\n",
    "### 설치 관련\n",
    "- AutoGluon 설치 시 pip로 설치하면 제대로 안되는 경우가 있으며, 그런 경우 source에서 설치가 필요합니다. AutoGluon은 내부적으로 여러 패키지를 활용하기 때문에 설치에 시간이 좀 소요됩니다."
   ]
  },
  {
   "cell_type": "code",
   "execution_count": null,
   "id": "6b7789b5-1898-4282-bf6e-ff3e4beb6b0e",
   "metadata": {
    "tags": []
   },
   "outputs": [],
   "source": [
    "# 일반적인 방법으로 설치\n",
    "# !pip -q install autogluon\n",
    "\n",
    "# Source 를 활용해서 직접 설치\n",
    "!git clone https://github.com/autogluon/autogluon\n",
    "!cd autogluon && ./full_install.sh"
   ]
  },
  {
   "cell_type": "code",
   "execution_count": null,
   "id": "62204b80-78ab-49e1-b980-67b3faa47009",
   "metadata": {
    "tags": []
   },
   "outputs": [],
   "source": [
    "!pip -q install openmim"
   ]
  },
  {
   "cell_type": "code",
   "execution_count": null,
   "id": "4f192e74-e535-4dd5-b750-9fcabeb5615b",
   "metadata": {
    "tags": []
   },
   "outputs": [],
   "source": [
    "!mim install mmcv-full\n",
    "!pip -q install mmdet"
   ]
  },
  {
   "cell_type": "markdown",
   "id": "438ae55f-850d-46de-8f67-0c197b8a8c08",
   "metadata": {},
   "source": [
    "- 아래 명령어를 통해서 autogluon 버전을 확인할 수 있습니다.\n",
    "- `import autogluon` 명령어로 정상 설치를 확인할 수 있습니다."
   ]
  },
  {
   "cell_type": "code",
   "execution_count": null,
   "id": "72261f30-01e4-420f-ac74-f7a6402f08d1",
   "metadata": {
    "tags": []
   },
   "outputs": [],
   "source": [
    "!pip list | grep autogluon"
   ]
  },
  {
   "cell_type": "code",
   "execution_count": null,
   "id": "1a5c139e-315e-4de2-8ea6-8cd35cdbf95a",
   "metadata": {
    "tags": []
   },
   "outputs": [],
   "source": [
    "import autogluon"
   ]
  },
  {
   "cell_type": "code",
   "execution_count": null,
   "id": "832fdba0-41e4-41c0-8927-b0d76374a124",
   "metadata": {
    "tags": []
   },
   "outputs": [],
   "source": [
    "import os\n",
    "import time"
   ]
  },
  {
   "cell_type": "code",
   "execution_count": null,
   "id": "2db001fa-d25a-4ad5-b16a-4e7b4e9cc46f",
   "metadata": {
    "tags": []
   },
   "outputs": [],
   "source": [
    "data_dir = os.path.join(\"data\", \"tiny_motorbike\")\n",
    "train_path = os.path.join(data_dir, \"Annotations\", \"trainval_cocoformat.json\")\n",
    "test_path = os.path.join(data_dir, \"Annotations\", \"test_cocoformat.json\")"
   ]
  },
  {
   "cell_type": "code",
   "execution_count": null,
   "id": "733d01ce-2cd5-4c44-bfd0-f5216c97cf71",
   "metadata": {
    "tags": []
   },
   "outputs": [],
   "source": [
    "from mmdet.apis import init_detector, inference_detector\n",
    "import mmcv"
   ]
  },
  {
   "cell_type": "code",
   "execution_count": null,
   "id": "6b610c5c-0b59-42c6-81ac-d5be415e158e",
   "metadata": {
    "tags": []
   },
   "outputs": [],
   "source": [
    "presets = \"best_quality\""
   ]
  },
  {
   "cell_type": "markdown",
   "id": "8e54026a-d81b-4646-afa8-1ad43b4d4752",
   "metadata": {},
   "source": [
    "- 아래 import를 통해 `MultiModalPredictor`를 사용할 수 있습니다.\n",
    "- 만일 `ImportError` 발생 시 kernel restart 를 하는 것이 좋습니다."
   ]
  },
  {
   "cell_type": "code",
   "execution_count": null,
   "id": "cb39519d-3966-426b-828c-279720fd253b",
   "metadata": {
    "tags": []
   },
   "outputs": [],
   "source": [
    "from autogluon.multimodal import MultiModalPredictor"
   ]
  },
  {
   "cell_type": "code",
   "execution_count": null,
   "id": "9a543172-264a-4fe8-ab9f-15159deab27c",
   "metadata": {
    "tags": []
   },
   "outputs": [],
   "source": [
    "# Init predictor\n",
    "import uuid\n",
    "\n",
    "model_path = f\"./autogluon-model-{uuid.uuid4().hex}\"\n",
    "\n",
    "predictor = MultiModalPredictor(\n",
    "    problem_type=\"object_detection\",\n",
    "    sample_data_path=train_path,\n",
    "    presets=presets,\n",
    "    path=model_path,\n",
    ")"
   ]
  },
  {
   "cell_type": "markdown",
   "id": "a76bdf7e-8aa7-49d7-8b62-06b89a4a8709",
   "metadata": {},
   "source": [
    "- Predictor를 선언하고, 곧바로 학습을 진행할 수 있습니다."
   ]
  },
  {
   "cell_type": "code",
   "execution_count": null,
   "id": "af3e6fbe-5222-4544-829c-22a40395d324",
   "metadata": {
    "tags": []
   },
   "outputs": [],
   "source": [
    "start = time.time()\n",
    "predictor.fit(train_path)  # Fit\n",
    "train_end = time.time()"
   ]
  },
  {
   "cell_type": "code",
   "execution_count": null,
   "id": "b5c34a08-8e2e-4efc-bcc5-910e58187c5a",
   "metadata": {
    "tags": []
   },
   "outputs": [],
   "source": [
    "print(\"This finetuning takes %.2f seconds.\" % (train_end - start))"
   ]
  },
  {
   "cell_type": "code",
   "execution_count": null,
   "id": "f491280d-b9ff-4a5c-afb2-16d2ccdb4590",
   "metadata": {
    "tags": []
   },
   "outputs": [],
   "source": [
    "eval_start = time.time()\n",
    "predictor.evaluate(test_path)\n",
    "eval_end = time.time() - eval_start"
   ]
  },
  {
   "cell_type": "code",
   "execution_count": null,
   "id": "fd82dc08-2b2d-44eb-b390-f4ed92e42263",
   "metadata": {
    "tags": []
   },
   "outputs": [],
   "source": [
    "print(\"The evaluation takes %.2f seconds.\" % (eval_end))"
   ]
  },
  {
   "cell_type": "markdown",
   "id": "1e00abae-4ecb-4e6d-b0be-e712de834a0b",
   "metadata": {},
   "source": [
    "- 아래에서 결과를 확인할 수 있습니다."
   ]
  },
  {
   "cell_type": "code",
   "execution_count": null,
   "id": "c6ae654e-4656-4f55-b760-3ec71ff19dbb",
   "metadata": {
    "tags": []
   },
   "outputs": [],
   "source": [
    "pred = predictor.predict(test_path, save_results=True)"
   ]
  },
  {
   "cell_type": "code",
   "execution_count": null,
   "id": "fda2bc5b-4256-4b10-959d-0b66fdc8bc93",
   "metadata": {
    "tags": []
   },
   "outputs": [],
   "source": [
    "from autogluon.multimodal.utils import Visualizer\n",
    "from PIL import Image\n",
    "from IPython.display import display\n",
    "\n",
    "conf_threshold = 0.5  # Specify a confidence threshold to filter out unwanted boxes\n",
    "\n",
    "for i in range(10):\n",
    "    \n",
    "    image_result = pred.iloc[i]\n",
    "\n",
    "    img_path = image_result.image  # Select an image to visualize\n",
    "\n",
    "    visualizer = Visualizer(img_path)  # Initialize the Visualizer\n",
    "    out = visualizer.draw_instance_predictions(image_result, conf_threshold=conf_threshold)  # Draw detections\n",
    "    visualized = out.get_image()  # Get the visualized image\n",
    "\n",
    "    img = Image.fromarray(visualized, 'RGB')\n",
    "    display(img)"
   ]
  },
  {
   "cell_type": "code",
   "execution_count": null,
   "id": "ae119d6b-207e-4f9c-8d92-ffab53bdccd3",
   "metadata": {},
   "outputs": [],
   "source": []
  },
  {
   "cell_type": "code",
   "execution_count": null,
   "id": "b4f58655-c8ea-458d-99a6-ce2876364f1a",
   "metadata": {},
   "outputs": [],
   "source": []
  }
 ],
 "metadata": {
  "kernelspec": {
   "display_name": "conda_pytorch_p39",
   "language": "python",
   "name": "conda_pytorch_p39"
  },
  "language_info": {
   "codemirror_mode": {
    "name": "ipython",
    "version": 3
   },
   "file_extension": ".py",
   "mimetype": "text/x-python",
   "name": "python",
   "nbconvert_exporter": "python",
   "pygments_lexer": "ipython3",
   "version": "3.9.15"
  }
 },
 "nbformat": 4,
 "nbformat_minor": 5
}
