{
 "cells": [
  {
   "cell_type": "markdown",
   "id": "0194b4f2-abaa-4571-aed4-c7156c77108a",
   "metadata": {},
   "source": [
    "## Autogluon deploy on SageMaker\n",
    "\n",
    "\n",
    "### YoloX 배포 예시\n",
    "- blog (deploy): https://aws.amazon.com/ko/blogs/machine-learning/hosting-yolov8-pytorch-model-on-amazon-sagemaker-endpoints/\n",
    "- code : https://github.com/aws-samples/host-yolov8-on-sagemaker-endpoint\n",
    "\n",
    "### Homework\n",
    "- 위의 블로그를 참고하면 YoloX 모델을 곧바로 deploy 할 수 있습니다.\n",
    "- 하지만 원하는 데이터 등에 on-scratch training 하거나 fine-tuning 하려면 5번에서 학습한 모델을 배포해야 하고, 이 때 YoloX 뿐 아니라 다양한 detection 모델을 쉽게 사용할 수 있는 AutoGluon multimodal (내부적으로 mmdetection 사용) 을 활용할 수 있습니다.\n",
    "- 5번에서 진행한 것 처럼 container를 만들어서 ([참고](https://github.com/aws/deep-learning-containers/tree/master/autogluon/inference/docker/0.7/py3)) 배포하는 과정을 직접 진행해 봅니다."
   ]
  },
  {
   "cell_type": "code",
   "execution_count": null,
   "id": "6833425e-6ca9-4405-803e-6540fc378e6a",
   "metadata": {},
   "outputs": [],
   "source": []
  },
  {
   "cell_type": "code",
   "execution_count": null,
   "id": "7891de41-b34d-4ab9-86aa-dfb0dfe95a01",
   "metadata": {},
   "outputs": [],
   "source": []
  },
  {
   "cell_type": "code",
   "execution_count": null,
   "id": "c836b129-d0d0-4107-8a6d-2330fb278c35",
   "metadata": {},
   "outputs": [],
   "source": []
  },
  {
   "cell_type": "code",
   "execution_count": null,
   "id": "723b16b7-2c5e-40fd-9d5b-042fe716f9a9",
   "metadata": {},
   "outputs": [],
   "source": []
  },
  {
   "cell_type": "code",
   "execution_count": null,
   "id": "1b732af7-aae3-4c0f-8356-594fdebadbe6",
   "metadata": {},
   "outputs": [],
   "source": []
  }
 ],
 "metadata": {
  "kernelspec": {
   "display_name": "conda_pytorch_p39",
   "language": "python",
   "name": "conda_pytorch_p39"
  },
  "language_info": {
   "codemirror_mode": {
    "name": "ipython",
    "version": 3
   },
   "file_extension": ".py",
   "mimetype": "text/x-python",
   "name": "python",
   "nbconvert_exporter": "python",
   "pygments_lexer": "ipython3",
   "version": "3.9.15"
  }
 },
 "nbformat": 4,
 "nbformat_minor": 5
}
